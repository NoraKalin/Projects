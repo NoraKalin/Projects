{
 "cells": [
  {
   "cell_type": "code",
   "execution_count": 1,
   "id": "5d28b1e3",
   "metadata": {},
   "outputs": [],
   "source": [
    "import requests \n",
    "from bs4 import BeautifulSoup\n",
    "import re\n",
    "import pandas as pd\n",
    "from time import sleep\n",
    "from selenium import webdriver\n",
    "from selenium.webdriver import Chrome"
   ]
  },
  {
   "cell_type": "code",
   "execution_count": 2,
   "id": "985cece9",
   "metadata": {},
   "outputs": [
    {
     "name": "stdout",
     "output_type": "stream",
     "text": [
      "1\n",
      "Исключение было обработано\n",
      "THE END\n"
     ]
    }
   ],
   "source": [
    "data=[]                                                    # создаём пустой список, в который будут собираться объявления\n",
    "\n",
    "for i in range(1, 2):                                     # задаем цикл с номерами страниц для загрузки\n",
    "    browser = webdriver.Chrome()\n",
    "    print(i)                                               # выводим на печать номер обрабатываемой страницы\n",
    "    url = f'https://www.list.am/ru/category/56/{i}?type=1&n=1&_a39=2&_a3_1=60&_a3_2=100' # задаем url\n",
    "    browser.get(url)\n",
    "    sleep(7)\n",
    "    soup = BeautifulSoup(browser.page_source, 'lxml')     # Преобразуем дынные для дальнейшей работы\n",
    "    \n",
    "    flats = soup.findAll('div', class_='dl')[1].find('div', class_='gl').findAll('a') # находим все объявления на странице\n",
    "    \n",
    "    for flat in flats:                                      # проходим по списку с объявлениями и извлекаем информацию о каждом\n",
    "        \n",
    "        try:\n",
    "            \n",
    "            link = 'https://www.list.am' + flat.get('href')  # извлекаем ссылку на объявление\n",
    "            price = flat.find('div', class_='p').text        # извлекаем цену на квартиру\n",
    "            information = flat.find('div', class_='at').text # извлекаем короткое описание квартиры\n",
    "           \n",
    "            result = re.findall(r'\\d{1,3}', information) # Создаем промежуточную переменную с площадью и кол-ом комнат квартиры\n",
    "            \n",
    "            number = re.findall(r'\\d+', link)[0]              # извлекаем номер объявления\n",
    "            region = re.findall(r'\\w+,', information)[0][:-1] # извлекаем регион\n",
    "            rooms = int(result[0])                            # извлекаем количество комнат\n",
    "            square = int(result[1])                           # извлекаем площадь\n",
    "            value = re.findall(r'[\\֏\\$]', price)[0]           # извлекаем валюту цены\n",
    "            cost = int(re.findall(r'\\d+[,]?\\d+[,]?\\d+', price)[0].replace(',','')) # извлекаем цену\n",
    "            \n",
    "            if value == '$':                                  # если цена в долларах, конвертируем её в драммы\n",
    "                cost *= 390\n",
    "                value = '֏'\n",
    "\n",
    "            data.append([number, region, cost, value, rooms, square, price+', ' +information, link]) # добавляем всю информацию\n",
    "\n",
    "        except:\n",
    "            print(\"Исключение было обработано\") \n",
    "    browser.quit()\n",
    "\n",
    "print('THE END')"
   ]
  },
  {
   "cell_type": "code",
   "execution_count": 3,
   "id": "2cdd3be2",
   "metadata": {},
   "outputs": [],
   "source": [
    "headers = ['number', 'region', 'cost', 'value', 'rooms', 'square', 'information', 'link'] # задаем названия колонок\n",
    "df = pd.DataFrame(data, columns=headers)                                                  # создаем DataFrame\n",
    "df = df.drop_duplicates()"
   ]
  },
  {
   "cell_type": "code",
   "execution_count": 4,
   "id": "140e72a6",
   "metadata": {},
   "outputs": [],
   "source": [
    "df.to_csv(r'D:\\Ela\\flats_Yerevan\\flats_yerevan.csv', index=False, sep=';', encoding='utf8') # сохраняем в файл"
   ]
  },
  {
   "cell_type": "code",
   "execution_count": 5,
   "id": "f1451c6a",
   "metadata": {},
   "outputs": [
    {
     "data": {
      "text/html": [
       "<div>\n",
       "<style scoped>\n",
       "    .dataframe tbody tr th:only-of-type {\n",
       "        vertical-align: middle;\n",
       "    }\n",
       "\n",
       "    .dataframe tbody tr th {\n",
       "        vertical-align: top;\n",
       "    }\n",
       "\n",
       "    .dataframe thead th {\n",
       "        text-align: right;\n",
       "    }\n",
       "</style>\n",
       "<table border=\"1\" class=\"dataframe\">\n",
       "  <thead>\n",
       "    <tr style=\"text-align: right;\">\n",
       "      <th></th>\n",
       "      <th>number</th>\n",
       "      <th>region</th>\n",
       "      <th>cost</th>\n",
       "      <th>value</th>\n",
       "      <th>rooms</th>\n",
       "      <th>square</th>\n",
       "      <th>information</th>\n",
       "      <th>link</th>\n",
       "    </tr>\n",
       "  </thead>\n",
       "  <tbody>\n",
       "    <tr>\n",
       "      <th>0</th>\n",
       "      <td>20597918</td>\n",
       "      <td>Кентрон</td>\n",
       "      <td>468000</td>\n",
       "      <td>֏</td>\n",
       "      <td>2</td>\n",
       "      <td>60</td>\n",
       "      <td>$1,200 в месяц, Кентрон, 2 ком., 60 кв.м., 9/1...</td>\n",
       "      <td>https://www.list.am/ru/item/20597918</td>\n",
       "    </tr>\n",
       "    <tr>\n",
       "      <th>1</th>\n",
       "      <td>15229365</td>\n",
       "      <td>Арабкир</td>\n",
       "      <td>468000</td>\n",
       "      <td>֏</td>\n",
       "      <td>3</td>\n",
       "      <td>100</td>\n",
       "      <td>$1,200 в месяц, Арабкир, 3 ком., 100 кв.м., 4/...</td>\n",
       "      <td>https://www.list.am/ru/item/15229365</td>\n",
       "    </tr>\n",
       "  </tbody>\n",
       "</table>\n",
       "</div>"
      ],
      "text/plain": [
       "     number   region    cost value  rooms  square  \\\n",
       "0  20597918  Кентрон  468000     ֏      2      60   \n",
       "1  15229365  Арабкир  468000     ֏      3     100   \n",
       "\n",
       "                                         information  \\\n",
       "0  $1,200 в месяц, Кентрон, 2 ком., 60 кв.м., 9/1...   \n",
       "1  $1,200 в месяц, Арабкир, 3 ком., 100 кв.м., 4/...   \n",
       "\n",
       "                                   link  \n",
       "0  https://www.list.am/ru/item/20597918  \n",
       "1  https://www.list.am/ru/item/15229365  "
      ]
     },
     "execution_count": 5,
     "metadata": {},
     "output_type": "execute_result"
    }
   ],
   "source": [
    "df.head(2)"
   ]
  }
 ],
 "metadata": {
  "kernelspec": {
   "display_name": "Python 3 (ipykernel)",
   "language": "python",
   "name": "python3"
  },
  "language_info": {
   "codemirror_mode": {
    "name": "ipython",
    "version": 3
   },
   "file_extension": ".py",
   "mimetype": "text/x-python",
   "name": "python",
   "nbconvert_exporter": "python",
   "pygments_lexer": "ipython3",
   "version": "3.11.5"
  }
 },
 "nbformat": 4,
 "nbformat_minor": 5
}
